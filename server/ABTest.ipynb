{
 "cells": [
  {
   "cell_type": "code",
   "execution_count": 277,
   "metadata": {},
   "outputs": [],
   "source": [
    "from scipy import stats\n",
    "import random\n",
    "import pandas as pd\n",
    "import matplotlib.pyplot as plt"
   ]
  },
  {
   "cell_type": "markdown",
   "metadata": {},
   "source": [
    "Wczytujemy dane zgromadzone podczas eksperymentu"
   ]
  },
  {
   "cell_type": "code",
   "execution_count": 278,
   "metadata": {},
   "outputs": [],
   "source": [
    "abtest_df = pd.read_json(\"data/abtest.jsonl\", orient=\"records\", lines=True)"
   ]
  },
  {
   "cell_type": "code",
   "execution_count": 279,
   "metadata": {},
   "outputs": [],
   "source": [
    "def assigned_group(uid):\n",
    "    return uid % 2"
   ]
  },
  {
   "cell_type": "code",
   "execution_count": 280,
   "metadata": {},
   "outputs": [],
   "source": [
    "abtest_df[\"group\"] = assigned_group(abtest_df[\"user_id\"].astype('int'))\n",
    "a = abtest_df[(abtest_df[\"group\"] == 0) & (abtest_df[\"event_type\"] == \"BUY_PRODUCT\")][\"offered_discount\"].astype('int').values\n",
    "b = abtest_df[(abtest_df[\"group\"] == 1) & (abtest_df[\"event_type\"] == \"BUY_PRODUCT\")][\"offered_discount\"].astype('int').values"
   ]
  },
  {
   "cell_type": "markdown",
   "metadata": {},
   "source": [
    "Liczymy wyniki dla każdej \"próbki\" - w tym wypadku jest to stosunek zaoferowanej ceny do pełnej ceny, im większy tym lepiej"
   ]
  },
  {
   "cell_type": "code",
   "execution_count": 281,
   "metadata": {},
   "outputs": [],
   "source": [
    "a = 1 - 0.01*a\n",
    "b = 1 - 0.01*b"
   ]
  },
  {
   "cell_type": "markdown",
   "metadata": {},
   "source": [
    "Sprawdzamy jaki rozkład ma wynik. Jeśli będzie miał rozkład normalny możemy użyć testu t-Studenta. Jeśli nie ma to zostaje nam zwykłe porównanie średnich wartości, ale test również można spróbować przeprowadzić.\n",
    "\n",
    "Żeby uzyskać prawdziwy rozkład potrzeba prawdziwych użytkowników. Tylko oni wygenerują nowe zdarzenia, które będą zgodne z ich zachowaniem. W tym przypadku zostały sztucznie wygenerowane oczywiste przypadki."
   ]
  },
  {
   "cell_type": "code",
   "execution_count": 287,
   "metadata": {},
   "outputs": [
    {
     "data": {
      "image/png": "[encoded data removed]",
      "text/plain": [
       "<Figure size 432x288 with 1 Axes>"
      ]
     },
     "metadata": {
      "needs_background": "light"
     },
     "output_type": "display_data"
    },
    {
     "data": {
      "image/png": "[encoded data removed]",
      "text/plain": [
       "<Figure size 432x288 with 1 Axes>"
      ]
     },
     "metadata": {
      "needs_background": "light"
     },
     "output_type": "display_data"
    }
   ],
   "source": [
    "plt.figure()\n",
    "_ = plt.hist(a)\n",
    "plt.figure()\n",
    "_ = plt.hist(b)"
   ]
  },
  {
   "cell_type": "markdown",
   "metadata": {},
   "source": [
    "Wyliczamy wartości testu"
   ]
  },
  {
   "cell_type": "code",
   "execution_count": 288,
   "metadata": {},
   "outputs": [
    {
     "name": "stdout",
     "output_type": "stream",
     "text": [
      "Mean score for A:  0.85\n",
      "Mean score for B:  0.95\n"
     ]
    }
   ],
   "source": [
    "mu_a = np.mean(a)\n",
    "mu_b = np.mean(b)\n",
    "\n",
    "print(\"Mean score for A: \", mu_a)\n",
    "print(\"Mean score for B: \", mu_b)"
   ]
  },
  {
   "cell_type": "code",
   "execution_count": 289,
   "metadata": {},
   "outputs": [
    {
     "name": "stdout",
     "output_type": "stream",
     "text": [
      "Tscore is:  2.4\n",
      "pvalue is:  0.027426867779009195\n"
     ]
    }
   ],
   "source": [
    "Tscore, pvalue = stats.ttest_ind(b, a)\n",
    "print(\"Tscore is: \", Tscore)\n",
    "print(\"pvalue is: \", pvalue)"
   ]
  },
  {
   "cell_type": "markdown",
   "metadata": {},
   "source": [
    "Jeśli pvalue jest mniejsze niż ustawiona istotność, możemy uznać, że nowy model daje lepsze wyniki."
   ]
  },
  {
   "cell_type": "code",
   "execution_count": 290,
   "metadata": {},
   "outputs": [],
   "source": [
    "threshold = 0.05"
   ]
  },
  {
   "cell_type": "code",
   "execution_count": 291,
   "metadata": {},
   "outputs": [
    {
     "name": "stdout",
     "output_type": "stream",
     "text": [
      "B is better\n"
     ]
    }
   ],
   "source": [
    "if pvalue < threshold:\n",
    "    print(\"B is better\")\n",
    "else:\n",
    "    print(\"B is not better\")"
   ]
  },
  {
   "cell_type": "code",
   "execution_count": null,
   "metadata": {},
   "outputs": [],
   "source": []
  }
 ],
 "metadata": {
  "kernelspec": {
   "display_name": "Python 3",
   "language": "python",
   "name": "python3"
  },
  "language_info": {
   "codemirror_mode": {
    "name": "ipython",
    "version": 3
   },
   "file_extension": ".py",
   "mimetype": "text/x-python",
   "name": "python",
   "nbconvert_exporter": "python",
   "pygments_lexer": "ipython3",
   "version": "3.7.7"
  }
 },
 "nbformat": 4,
 "nbformat_minor": 4
}
