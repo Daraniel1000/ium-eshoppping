{
 "cells": [
  {
   "cell_type": "code",
   "execution_count": null,
   "metadata": {},
   "outputs": [],
   "source": [
    "import pandas as pd\n",
    "import numpy as np\n",
    "import matplotlib.pyplot as plt\n",
    "import pickle\n",
    "import os\n",
    "from sklearn.model_selection import train_test_split\n",
    "from sklearn.preprocessing import OneHotEncoder\n",
    "from sklearn.preprocessing import StandardScaler\n",
    "from sklearn.metrics import balanced_accuracy_score\n",
    "from sklearn.metrics import plot_precision_recall_curve\n",
    "import matplotlib.pyplot as plt\n",
    "from sklearn.model_selection import RandomizedSearchCV"
   ]
  },
  {
   "cell_type": "code",
   "execution_count": null,
   "metadata": {},
   "outputs": [],
   "source": [
    "data_path = \"data/chosen.jsonl\"\n",
    "tools_dir = \"tools\"\n",
    "\n",
    "test_split = 0.2\n",
    "seed = 42"
   ]
  },
  {
   "cell_type": "code",
   "execution_count": null,
   "metadata": {},
   "outputs": [],
   "source": [
    "os.makedirs(tools_dir, exist_ok=True)"
   ]
  },
  {
   "cell_type": "markdown",
   "metadata": {},
   "source": [
    "# Wczytywanie danych"
   ]
  },
  {
   "cell_type": "markdown",
   "metadata": {},
   "source": [
    "Analiza danych została przeprowadzona w poprzednim etapie. Teraz wczytujemy przetworzone dane z końca poprzedniego etapu. Został wybrany podzbiór atrybutów, które według nas i przeprowadzonej analizy mają największy potencjał w byciu informatywnymi."
   ]
  },
  {
   "cell_type": "code",
   "execution_count": null,
   "metadata": {},
   "outputs": [],
   "source": [
    "df = pd.read_json(data_path, lines=True)"
   ]
  },
  {
   "cell_type": "code",
   "execution_count": null,
   "metadata": {},
   "outputs": [],
   "source": [
    "df"
   ]
  },
  {
   "cell_type": "code",
   "execution_count": null,
   "metadata": {},
   "outputs": [],
   "source": [
    "X = df.drop(\"bought\", axis=1)\n",
    "y = df[\"bought\"].astype('int')"
   ]
  },
  {
   "cell_type": "markdown",
   "metadata": {},
   "source": [
    "- X - wejścia\n",
    "- y - zmienna celu"
   ]
  },
  {
   "cell_type": "markdown",
   "metadata": {},
   "source": [
    "# Przygotowanie danych"
   ]
  },
  {
   "cell_type": "markdown",
   "metadata": {},
   "source": [
    "#### Sanity check"
   ]
  },
  {
   "cell_type": "code",
   "execution_count": null,
   "metadata": {},
   "outputs": [],
   "source": [
    "_ = y.hist()"
   ]
  },
  {
   "cell_type": "code",
   "execution_count": null,
   "metadata": {},
   "outputs": [],
   "source": [
    "np.count_nonzero(y == 1) / np.count_nonzero(y == 0)"
   ]
  },
  {
   "cell_type": "markdown",
   "metadata": {},
   "source": [
    "Klasy są niezbalansowane (w proporcji około 1:3)"
   ]
  },
  {
   "cell_type": "code",
   "execution_count": null,
   "metadata": {},
   "outputs": [],
   "source": [
    "X.isnull().sum().sum()"
   ]
  },
  {
   "cell_type": "markdown",
   "metadata": {},
   "source": [
    "Nie ma już żadnych braków"
   ]
  },
  {
   "cell_type": "markdown",
   "metadata": {},
   "source": [
    "#### Podział na zbiór uczący i testowy"
   ]
  },
  {
   "cell_type": "code",
   "execution_count": null,
   "metadata": {},
   "outputs": [],
   "source": [
    "X_train, X_test, y_train, y_test = train_test_split(X, y, test_size=test_split, random_state=seed)"
   ]
  },
  {
   "cell_type": "markdown",
   "metadata": {},
   "source": [
    "#### Kodowanie"
   ]
  },
  {
   "cell_type": "code",
   "execution_count": null,
   "metadata": {},
   "outputs": [],
   "source": [
    "numerical_columns = X_train.select_dtypes(\"number\").columns\n",
    "categorical_columns = X_train.select_dtypes(exclude=\"number\").columns"
   ]
  },
  {
   "cell_type": "code",
   "execution_count": null,
   "metadata": {},
   "outputs": [],
   "source": [
    "encoder = OneHotEncoder(handle_unknown='ignore').fit(X_train[categorical_columns])"
   ]
  },
  {
   "cell_type": "code",
   "execution_count": null,
   "metadata": {},
   "outputs": [],
   "source": [
    "encoded_categorical_train = pd.DataFrame(encoder.transform(X_train[categorical_columns]).toarray(), columns=encoder.get_feature_names(input_features=categorical_columns))\n",
    "encoded_categorical_train.index = X_train.index\n",
    "encoded_categorical_test = pd.DataFrame(encoder.transform(X_test[categorical_columns]).toarray(), columns=encoder.get_feature_names(input_features=categorical_columns))\n",
    "encoded_categorical_test.index = X_test.index"
   ]
  },
  {
   "cell_type": "code",
   "execution_count": null,
   "metadata": {},
   "outputs": [],
   "source": [
    "X_train = pd.concat([X_train[numerical_columns], encoded_categorical_train], axis=1)\n",
    "X_test = pd.concat([X_test[numerical_columns], encoded_categorical_test], axis=1)"
   ]
  },
  {
   "cell_type": "code",
   "execution_count": null,
   "metadata": {},
   "outputs": [],
   "source": [
    "X_train"
   ]
  },
  {
   "cell_type": "markdown",
   "metadata": {},
   "source": [
    "Po zakodowaniu mamy 36 kolumn"
   ]
  },
  {
   "cell_type": "code",
   "execution_count": null,
   "metadata": {},
   "outputs": [],
   "source": [
    "with open(tools_dir + '/encoder.pkl', 'wb') as f:\n",
    "    pickle.dump(encoder, f)"
   ]
  },
  {
   "cell_type": "markdown",
   "metadata": {},
   "source": [
    "Zapiszemy enkoder, żeby użyć go później na serwerze"
   ]
  },
  {
   "cell_type": "markdown",
   "metadata": {},
   "source": [
    "#### Normalizacja"
   ]
  },
  {
   "cell_type": "code",
   "execution_count": null,
   "metadata": {},
   "outputs": [],
   "source": [
    "scaler = StandardScaler().fit(X_train)"
   ]
  },
  {
   "cell_type": "code",
   "execution_count": null,
   "metadata": {},
   "outputs": [],
   "source": [
    "X_train.loc[:, :] = scaler.transform(X_train)\n",
    "X_test.loc[:, :] = scaler.transform(X_test)"
   ]
  },
  {
   "cell_type": "code",
   "execution_count": null,
   "metadata": {},
   "outputs": [],
   "source": [
    "X_train"
   ]
  },
  {
   "cell_type": "code",
   "execution_count": null,
   "metadata": {},
   "outputs": [],
   "source": [
    "with open(tools_dir + '/scaler.pkl', 'wb') as f:\n",
    "    pickle.dump(scaler, f)"
   ]
  },
  {
   "cell_type": "markdown",
   "metadata": {},
   "source": [
    "Zapiszemy... skaler(?), żeby użyć go później na serwerze"
   ]
  },
  {
   "cell_type": "code",
   "execution_count": null,
   "metadata": {},
   "outputs": [],
   "source": [
    "X_train"
   ]
  },
  {
   "cell_type": "code",
   "execution_count": null,
   "metadata": {},
   "outputs": [],
   "source": [
    "y_train"
   ]
  },
  {
   "cell_type": "code",
   "execution_count": null,
   "metadata": {},
   "outputs": [],
   "source": [
    "X_test"
   ]
  },
  {
   "cell_type": "code",
   "execution_count": null,
   "metadata": {},
   "outputs": [],
   "source": [
    "y_test"
   ]
  },
  {
   "cell_type": "markdown",
   "metadata": {},
   "source": [
    "# Uczenie"
   ]
  },
  {
   "cell_type": "code",
   "execution_count": null,
   "metadata": {},
   "outputs": [],
   "source": [
    "from sklearn.dummy import DummyClassifier\n",
    "clfD = DummyClassifier(strategy=\"most_frequent\").fit(X_train, y_train)"
   ]
  },
  {
   "cell_type": "code",
   "execution_count": null,
   "metadata": {},
   "outputs": [],
   "source": [
    "from sklearn.linear_model import LogisticRegression\n",
    "clfA = LogisticRegression().fit(X_train, y_train)"
   ]
  },
  {
   "cell_type": "code",
   "execution_count": null,
   "metadata": {},
   "outputs": [],
   "source": [
    "from sklearn.ensemble import RandomForestClassifier\n",
    "clfB = RandomForestClassifier(max_depth=10).fit(X_train, y_train)"
   ]
  },
  {
   "cell_type": "markdown",
   "metadata": {},
   "source": [
    "Tworzymy bazowe klasyfikatory przed strojeniem hiperparametrów\n",
    "\n",
    "Następnie robimy strojenie"
   ]
  },
  {
   "cell_type": "code",
   "execution_count": null,
   "metadata": {},
   "outputs": [],
   "source": [
    "from sklearn.metrics import make_scorer\n",
    "scorer = make_scorer(balanced_accuracy_score)"
   ]
  },
  {
   "cell_type": "code",
   "execution_count": null,
   "metadata": {},
   "outputs": [],
   "source": [
    "params = {\n",
    "    \"penalty\": [\"none\", \"l2\"],\n",
    "    \"tol\": [1e-4, 1e-5, 1e-3],\n",
    "    \"C\": [1, 2, 3],\n",
    "    \"fit_intercept\": [True, False],\n",
    "    \"class_weight\": [\"balanced\", None],\n",
    "    \"max_iter\": np.arange(50, 150)\n",
    "}\n",
    "model = LogisticRegression()\n",
    "grid = RandomizedSearchCV(model, params, n_jobs=-1)\n",
    "grid.fit(X_train, y_train)\n",
    "print(grid.score(X_test, y_test))\n",
    "grid.best_params_\n"
   ]
  },
  {
   "cell_type": "markdown",
   "metadata": {},
   "source": [
    "Strojenie regresji daje prawie niezmienione parametry domyślne"
   ]
  },
  {
   "cell_type": "code",
   "execution_count": null,
   "metadata": {},
   "outputs": [],
   "source": [
    "from sklearn.model_selection import GridSearchCV"
   ]
  },
  {
   "cell_type": "markdown",
   "metadata": {},
   "source": [
    "params = {\n",
    "    'max_depth': [3,5,8,12,15,30],\n",
    "    'max_features': ['sqrt', 'log2'],\n",
    "    'bootstrap': [True, False],\n",
    "    'criterion': ['gini', 'entropy'],\n",
    "}\n",
    "model = RandomForestClassifier(class_weight=\"balanced\", n_estimators=500)\n",
    "grid = GridSearchCV(model, params, scoring=scorer, n_jobs=-1)\n",
    "grid.fit(X_train, y_train)\n",
    "print(grid.score(X_test, y_test))\n",
    "grid.best_params_\n"
   ]
  },
  {
   "cell_type": "markdown",
   "metadata": {},
   "source": [
    "Wyjście GridSearchCV:\n",
    "(Po długim czasie)\n",
    "\n",
    "0.6839481308144144\n",
    "\n",
    "{'bootstrap': True,\n",
    " 'criterion': 'entropy',\n",
    " 'max_depth': 8,\n",
    " 'max_features': 'log2'}\n",
    " \n",
    " Komórka GridSearch zamieniona na Markdown aby nie można jej było przez przypadek uruchomić"
   ]
  },
  {
   "cell_type": "markdown",
   "metadata": {},
   "source": [
    "Strojenie Random Forest"
   ]
  },
  {
   "cell_type": "code",
   "execution_count": null,
   "metadata": {},
   "outputs": [],
   "source": [
    "clfA_tuned = LogisticRegression(tol=1e-5, penalty='l2', max_iter=78, fit_intercept=True,\n",
    "                          class_weight=None, C=2).fit(X_train, y_train)"
   ]
  },
  {
   "cell_type": "code",
   "execution_count": null,
   "metadata": {},
   "outputs": [],
   "source": [
    "clfB_tuned = RandomForestClassifier(max_features='log2', max_depth=8, n_estimators=500, criterion='entropy', \n",
    "                                    bootstrap=True, class_weight=\"balanced\", n_jobs=-1).fit(X_train, y_train)"
   ]
  },
  {
   "cell_type": "markdown",
   "metadata": {},
   "source": [
    "Tworzymy modele z nastrojonymi hiperparametrami"
   ]
  },
  {
   "cell_type": "markdown",
   "metadata": {},
   "source": [
    "# Porównanie"
   ]
  },
  {
   "cell_type": "markdown",
   "metadata": {},
   "source": [
    "Najpierw porównujemy wyniki modeli nienastrojonych:"
   ]
  },
  {
   "cell_type": "code",
   "execution_count": null,
   "metadata": {},
   "outputs": [],
   "source": [
    "print(\"Zbiór treningowy\\nBalanced Accuracy Score: \")\n",
    "print(balanced_accuracy_score(y_train, clfA.predict(X_train)))\n",
    "\n",
    "disp = plot_precision_recall_curve(clfA, X_train, y_train)\n",
    "\n",
    "print(\"Zbiór walidacyjny\\nScore: \")\n",
    "print(clfA.score(X_test, y_test))\n",
    "\n",
    "print(\"Balanced Accuracy Score: \")\n",
    "print(balanced_accuracy_score(y_test, clfA.predict(X_test)))\n",
    "\n",
    "disp = plot_precision_recall_curve(clfA, X_test, y_test)"
   ]
  },
  {
   "cell_type": "code",
   "execution_count": null,
   "metadata": {},
   "outputs": [],
   "source": [
    "print(\"Zbiór treningowy\\nBalanced Accuracy Score: \")\n",
    "print(balanced_accuracy_score(y_train, clfB.predict(X_train)))\n",
    "\n",
    "disp = plot_precision_recall_curve(clfB, X_train, y_train)\n",
    "\n",
    "print(\"Zbiór walidacyjny\\nScore: \")\n",
    "print(clfB.score(X_test, y_test))\n",
    "\n",
    "print(\"Balanced Accuracy Score: \")\n",
    "print(balanced_accuracy_score(y_test, clfB.predict(X_test)))\n",
    "\n",
    "disp = plot_precision_recall_curve(clfB, X_test, y_test)"
   ]
  },
  {
   "cell_type": "markdown",
   "metadata": {},
   "source": [
    "Następnie wyniki modeli nastrojonych:"
   ]
  },
  {
   "cell_type": "code",
   "execution_count": null,
   "metadata": {},
   "outputs": [],
   "source": [
    "print(\"Zbiór treningowy\\nBalanced Accuracy Score: \")\n",
    "print(balanced_accuracy_score(y_train, clfA_tuned.predict(X_train)))\n",
    "\n",
    "disp = plot_precision_recall_curve(clfA_tuned, X_train, y_train)\n",
    "\n",
    "print(\"Zbiór walidacyjny\\nScore: \")\n",
    "print(clfA_tuned.score(X_test, y_test))\n",
    "\n",
    "print(\"Balanced Accuracy Score: \")\n",
    "print(balanced_accuracy_score(y_test, clfA_tuned.predict(X_test)))\n",
    "\n",
    "disp = plot_precision_recall_curve(clfA_tuned, X_test, y_test)"
   ]
  },
  {
   "cell_type": "code",
   "execution_count": null,
   "metadata": {},
   "outputs": [],
   "source": [
    "print(\"Zbiór treningowy\\nBalanced Accuracy Score: \")\n",
    "print(balanced_accuracy_score(y_train, clfB_tuned.predict(X_train)))\n",
    "\n",
    "disp = plot_precision_recall_curve(clfB_tuned, X_train, y_train)\n",
    "\n",
    "print(\"Zbiór walidacyjny\\nScore: \")\n",
    "print(clfB_tuned.score(X_test, y_test))\n",
    "\n",
    "print(\"Balanced Accuracy Score: \")\n",
    "print(balanced_accuracy_score(y_test, clfB_tuned.predict(X_test)))\n",
    "\n",
    "disp = plot_precision_recall_curve(clfB_tuned, X_test, y_test)"
   ]
  },
  {
   "cell_type": "markdown",
   "metadata": {},
   "source": [
    "Jak można zauważyć, strojenie Random Forest znacznie poprawia wyniki\n",
    "\n",
    "Na koniec zapisujemy modele do plików zewnętrznych"
   ]
  },
  {
   "cell_type": "code",
   "execution_count": null,
   "metadata": {},
   "outputs": [],
   "source": [
    "with open(tools_dir + '/A.pkl', 'wb') as f:\n",
    "    pickle.dump(clfA_tuned, f)\n",
    "    \n",
    "with open(tools_dir + '/B.pkl', 'wb') as f:\n",
    "    pickle.dump(clfB_tuned, f)"
   ]
  },
  {
   "cell_type": "code",
   "execution_count": null,
   "metadata": {},
   "outputs": [],
   "source": []
  }
 ],
 "metadata": {
  "kernelspec": {
   "display_name": "Python 3",
   "language": "python",
   "name": "python3"
  },
  "language_info": {
   "codemirror_mode": {
    "name": "ipython",
    "version": 3
   },
   "file_extension": ".py",
   "mimetype": "text/x-python",
   "name": "python",
   "nbconvert_exporter": "python",
   "pygments_lexer": "ipython3",
   "version": "3.7.6"
  }
 },
 "nbformat": 4,
 "nbformat_minor": 4
}
